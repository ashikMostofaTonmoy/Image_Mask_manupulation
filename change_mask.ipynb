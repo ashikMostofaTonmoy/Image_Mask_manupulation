{
 "cells": [
  {
   "cell_type": "code",
   "execution_count": 1,
   "id": "b22df654",
   "metadata": {},
   "outputs": [
    {
     "data": {
      "text/plain": [
       "'D:\\\\Personal\\\\project_temp\\\\Acmi AI\\\\Image_Mask_manupulation\\\\venv\\\\Scripts'"
      ]
     },
     "execution_count": 1,
     "metadata": {},
     "output_type": "execute_result"
    }
   ],
   "source": [
    "import os\n",
    "import sys\n",
    "os.path.dirname(sys.executable)"
   ]
  },
  {
   "cell_type": "code",
   "execution_count": 2,
   "id": "c42e8a03",
   "metadata": {},
   "outputs": [],
   "source": [
    "import cv2\n",
    "import numpy as np"
   ]
  },
  {
   "cell_type": "code",
   "execution_count": 41,
   "id": "02b5df24",
   "metadata": {},
   "outputs": [],
   "source": [
    "path = \"B3_May_25_2022_16-30_Ashik_Mostofa/B-3.1/images/1_s_144_F.jpg.png\"\n",
    "\n",
    "destination='reorganized/'"
   ]
  },
  {
   "cell_type": "code",
   "execution_count": 42,
   "id": "ee8cc8f8",
   "metadata": {},
   "outputs": [],
   "source": [
    "img = cv2.imread(path)"
   ]
  },
  {
   "cell_type": "code",
   "execution_count": 50,
   "id": "096bcff4",
   "metadata": {},
   "outputs": [
    {
     "name": "stdout",
     "output_type": "stream",
     "text": [
      "reorganized/B3_May_25_2022_16-30_Ashik_Mostofa/B-3.1/images\n",
      "reorganized/B3_May_25_2022_16-30_Ashik_Mostofa/B-3.1/images\\1_s_144_F.jpg.png\n",
      "<class 'str'>\n"
     ]
    }
   ],
   "source": [
    "head_tail=os.path.split(path)\n",
    "head_tail[0]\n",
    "final_destination =os.path.join(destination,os.path.split(path)[0])\n",
    "print(final_destination)\n",
    "print(os.path.join(final_destination,head_tail[1]))\n",
    "print (type(final_destination))\n",
    "\n",
    "if os.path.exists(final_destination) == False :\n",
    "    try:\n",
    "        os.makedirs(os.path.join(final_destination), exist_ok=True)\n",
    "    except OSError as error:\n",
    "        print(error)\n"
   ]
  },
  {
   "cell_type": "code",
   "execution_count": 4,
   "id": "ba9c3702",
   "metadata": {},
   "outputs": [
    {
     "name": "stdout",
     "output_type": "stream",
     "text": [
      "(1425, 1900, 3)\n",
      "3\n",
      "Maximum RGB value in this image 44\n",
      "Minimum RGB value in this image 0\n",
      "42\n",
      "type:<class 'numpy.ndarray'> shape: (1425, 1900)\n"
     ]
    }
   ],
   "source": [
    "\n",
    "print(img.shape)\n",
    "a= np.array(img)\n",
    "print(a.ndim)\n",
    "print('Maximum RGB value in this image {}'.format(img.max()))\n",
    "print('Minimum RGB value in this image {}'.format(img.min()))\n",
    "(B, G, R) = cv2.split(img)\n",
    "print(R.min())\n",
    "print(f\"type:{type(R)} shape: {R.shape}\")"
   ]
  },
  {
   "cell_type": "code",
   "execution_count": 5,
   "id": "72755854",
   "metadata": {},
   "outputs": [
    {
     "data": {
      "text/plain": [
       "\"\\nimport cv2\\nimport glob\\n\\nimdir = 'path/to/files/'\\next = ['png', 'jpg', 'gif']    # Add image formats here\\n\\nfiles = []\\n[files.extend(glob.glob(imdir + '*.' + e)) for e in ext]\\n\\nimages = [cv2.imread(file) for file in files]\\n\\n\""
      ]
     },
     "execution_count": 5,
     "metadata": {},
     "output_type": "execute_result"
    }
   ],
   "source": [
    "# import glob\n",
    "# import cv2\n",
    "# cv_img = []\n",
    "# for img in glob.glob(\"B3_May_25_2022_16-30_Ashik_Mostofa/B-3.1/images/*.png\"):\n",
    "#     n= cv2.imread(img)\n",
    "#     cv_img.append(n)\n",
    "# print(cv_img)\n",
    "\n",
    "\n",
    "\"\"\"\n",
    "import cv2\n",
    "import glob\n",
    "\n",
    "imdir = 'path/to/files/'\n",
    "ext = ['png', 'jpg', 'gif']    # Add image formats here\n",
    "\n",
    "files = []\n",
    "[files.extend(glob.glob(imdir + '*.' + e)) for e in ext]\n",
    "\n",
    "images = [cv2.imread(file) for file in files]\n",
    "\n",
    "\"\"\"\n",
    "\n",
    "# import cv2\n",
    "# import glob\n",
    "\n",
    "# imdir = 'B3_May_25_2022_16-30_Ashik_Mostofa/B-3.1/images/'\n",
    "# ext = ['png', 'jpg', 'gif']    # Add image formats here\n",
    "\n",
    "# files = []\n",
    "# [files.extend(glob.glob(imdir + '*.' + e)) for e in ext]\n",
    "\n",
    "# images = [cv2.imread(file) for file in files]\n",
    "\n",
    "# print(images)"
   ]
  },
  {
   "cell_type": "code",
   "execution_count": 6,
   "id": "53a7e2ff",
   "metadata": {},
   "outputs": [],
   "source": [
    "import cv2\n",
    "import numpy as np\n",
    "# from collections import Counter\n",
    "import matplotlib.pyplot as plt"
   ]
  },
  {
   "cell_type": "code",
   "execution_count": 7,
   "id": "17993043",
   "metadata": {},
   "outputs": [],
   "source": [
    "img = cv2.imread(\"B3_May_25_2022_16-30_Ashik_Mostofa/B-3.1/images/1_s_144_F.jpg.png\" , cv2.IMREAD_UNCHANGED)\n",
    "# img = cv2.imread(\"B3_May_25_2022_16-30_Ashik_Mostofa/B-3.1/images/465_s_163_M.jpg.png\" , cv2.IMREAD_UNCHANGED)"
   ]
  },
  {
   "cell_type": "code",
   "execution_count": 8,
   "id": "96a1b139",
   "metadata": {},
   "outputs": [
    {
     "name": "stdout",
     "output_type": "stream",
     "text": [
      "(1425, 1900, 3)\n",
      "3\n",
      "Maximum RGB value in this image 44\n",
      "Minimum RGB value in this image 0\n",
      "44\n",
      "42\n",
      "type:<class 'numpy.ndarray'> shape: (1425, 1900)\n"
     ]
    }
   ],
   "source": [
    "print(img.shape)\n",
    "a= np.array(img)\n",
    "print(img.ndim)\n",
    "print('Maximum RGB value in this image {}'.format(img.max()))\n",
    "print('Minimum RGB value in this image {}'.format(img.min()))\n",
    "(B, G, R) = cv2.split(img)\n",
    "# test= Counter(R)\n",
    "# print(test)\n",
    "\n",
    "print(R.max())\n",
    "print(R.min())\n",
    "\n",
    "print(f\"type:{type(R)} shape: {R.shape}\")"
   ]
  },
  {
   "cell_type": "code",
   "execution_count": 17,
   "id": "6a2ad476",
   "metadata": {},
   "outputs": [
    {
     "name": "stdout",
     "output_type": "stream",
     "text": [
      "(1425, 1900)\n",
      "{0: 10281, 75: 793630, 255: 1903589}\n",
      "{0: 10281, 75: 793630, 255: 1903589}\n",
      "[  0  75 255]\n",
      "3\n"
     ]
    },
    {
     "data": {
      "image/png": "[encoded data removed]",
      "text/plain": [
       "<Figure size 432x288 with 1 Axes>"
      ]
     },
     "metadata": {
      "needs_background": "light"
     },
     "output_type": "display_data"
    }
   ],
   "source": [
    "# image= cv2.imread('Tropical-tree.jpg')\n",
    "\n",
    "# equ = cv2.equalizeHist(img)\n",
    "equ = cv2.equalizeHist(R)\n",
    "print(equ.shape)\n",
    "res = np.hstack((R,equ)) #stacking images side-by-side\n",
    "# cv2.imwrite('res.png',res)\n",
    "un, cnt = np.unique(equ, return_counts=True)\n",
    "counted_pixels= dict(zip(un, cnt))\n",
    "print(dict(zip(un, cnt)))\n",
    "print (counted_pixels)\n",
    "\n",
    "print(un)\n",
    "print(un.size)\n",
    "\n",
    "plt.imshow(cv2.cvtColor(res , cv2.COLOR_BGR2RGB))\n",
    "plt.show()\n",
    "\n",
    "\n",
    "# cv2.imshow('dsa',img)\n",
    "# cv2.waitKey(0)\n",
    "# cv2.destroyAllWindows()"
   ]
  },
  {
   "cell_type": "code",
   "execution_count": 31,
   "id": "492ee2e8",
   "metadata": {},
   "outputs": [
    {
     "name": "stdout",
     "output_type": "stream",
     "text": [
      "1425 1900\n"
     ]
    }
   ],
   "source": [
    "frame=np.zeros(R.shape, dtype=\"uint8\")\n",
    "h,w = frame.shape\n",
    "\n",
    "print(h,w)"
   ]
  },
  {
   "cell_type": "code",
   "execution_count": 23,
   "id": "fb52616d",
   "metadata": {},
   "outputs": [
    {
     "name": "stdout",
     "output_type": "stream",
     "text": [
      "{0: 10281, 75: 793630, 255: 1903589}\n",
      "[(0, 10281), (75, 793630), (255, 1903589)]\n"
     ]
    }
   ],
   "source": [
    "#sort ascending order\n",
    "\n",
    "sortlist = sorted(counted_pixels.items(), key=lambda x:x[1])\n",
    "sortdict = dict(sortlist)\n",
    "print(sortdict)\n",
    "print(sortlist)"
   ]
  },
  {
   "cell_type": "code",
   "execution_count": 25,
   "id": "7b841b65",
   "metadata": {},
   "outputs": [
    {
     "data": {
      "image/png": "[encoded data removed]",
      "text/plain": [
       "<Figure size 432x288 with 1 Axes>"
      ]
     },
     "metadata": {
      "needs_background": "light"
     },
     "output_type": "display_data"
    }
   ],
   "source": [
    "# equ[0:cY, 0:cX]\n",
    "\n",
    "equ[0:700, 0:1000]\n",
    "\n",
    "\n",
    "plt.imshow(cv2.cvtColor(equ[0:700, 0:1000] , cv2.COLOR_BGR2RGB))\n",
    "plt.show()"
   ]
  },
  {
   "cell_type": "code",
   "execution_count": 34,
   "id": "e7f80b64",
   "metadata": {},
   "outputs": [
    {
     "name": "stdout",
     "output_type": "stream",
     "text": [
      "0 75 255\n"
     ]
    }
   ],
   "source": [
    "def returnImageMarkers(sortedlist):\n",
    "    stkr=sortedlist[0][0]\n",
    "    cw=sortedlist[1][0]\n",
    "    bg=sortedlist[2][0]\n",
    "\n",
    "    return stkr , cw , bg\n",
    "        \n",
    "sticker, cow , background = returnImageMarkers(sortlist)\n",
    "print( sticker, cow , background )\n",
    "\n",
    "\n",
    "imagemap = {\n",
    "    sticker:2,\n",
    "    cow:1,\n",
    "    background:0\n",
    "}\n"
   ]
  },
  {
   "cell_type": "code",
   "execution_count": 35,
   "id": "646d568f",
   "metadata": {},
   "outputs": [
    {
     "data": {
      "image/png": "[encoded data removed]",
      "text/plain": [
       "<Figure size 432x288 with 1 Axes>"
      ]
     },
     "metadata": {
      "needs_background": "light"
     },
     "output_type": "display_data"
    }
   ],
   "source": [
    "h,w = frame.shape\n",
    "\n",
    "for x in range(w):\n",
    "    for y in range(h):\n",
    "        frame[y,x] = imagemap[equ[y,x]]\n",
    "\n",
    "\n",
    "        \n",
    "\n",
    "\n",
    "# equ[0:cY, 0:cX]\n",
    "# equ[0:700, 0:1000]\n",
    "\n",
    "\n",
    "plt.imshow(cv2.cvtColor(frame , cv2.COLOR_BGR2RGB))\n",
    "plt.show()\n"
   ]
  },
  {
   "cell_type": "code",
   "execution_count": 36,
   "id": "2d47b087",
   "metadata": {},
   "outputs": [
    {
     "data": {
      "text/plain": [
       "(1425, 1900)"
      ]
     },
     "execution_count": 36,
     "metadata": {},
     "output_type": "execute_result"
    }
   ],
   "source": [
    "frame.shape\n"
   ]
  },
  {
   "cell_type": "code",
   "execution_count": 51,
   "id": "c1b1fd5e",
   "metadata": {},
   "outputs": [
    {
     "name": "stdout",
     "output_type": "stream",
     "text": [
      "reorganized/B3_May_25_2022_16-30_Ashik_Mostofa/B-3.1/images\n",
      "reorganized/B3_May_25_2022_16-30_Ashik_Mostofa/B-3.1/images\\1_s_144_F.jpg.png\n",
      "<class 'str'>\n"
     ]
    },
    {
     "data": {
      "text/plain": [
       "True"
      ]
     },
     "execution_count": 51,
     "metadata": {},
     "output_type": "execute_result"
    }
   ],
   "source": [
    "head_tail=os.path.split(path)\n",
    "head_tail[0]\n",
    "final_destination =os.path.join(destination,os.path.split(path)[0])\n",
    "print(final_destination)\n",
    "print(os.path.join(final_destination,head_tail[1]))\n",
    "print (type(final_destination))\n",
    "\n",
    "if os.path.exists(final_destination) == False :\n",
    "    try:\n",
    "        os.makedirs(os.path.join(final_destination), exist_ok=True)\n",
    "    except OSError as error:\n",
    "        print(error)\n",
    "\n",
    "cv2.imwrite(os.path.join(final_destination,head_tail[1]), frame)"
   ]
  },
  {
   "cell_type": "code",
   "execution_count": null,
   "id": "02e1fd8e",
   "metadata": {},
   "outputs": [],
   "source": [
    "os.path.split(path)"
   ]
  }
 ],
 "metadata": {
  "kernelspec": {
   "display_name": "Python 3 (ipykernel)",
   "language": "python",
   "name": "python3"
  },
  "language_info": {
   "codemirror_mode": {
    "name": "ipython",
    "version": 3
   },
   "file_extension": ".py",
   "mimetype": "text/x-python",
   "name": "python",
   "nbconvert_exporter": "python",
   "pygments_lexer": "ipython3",
   "version": "3.9.12"
  }
 },
 "nbformat": 4,
 "nbformat_minor": 5
}
